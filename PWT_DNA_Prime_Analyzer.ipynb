{
 "cells": [
  {
   "cell_type": "code",
   "execution_count": 1,
   "id": "c84495ff-1ecf-42a7-b46d-5f2c3aac3fe8",
   "metadata": {},
   "outputs": [],
   "source": [
    "from Bio import Entrez, SeqIO\n",
    "from Bio.Seq import Seq\n",
    "from collections import Counter\n",
    "import sympy as sp\n",
    "import math\n",
    "import random"
   ]
  },
  {
   "cell_type": "code",
   "execution_count": 2,
   "id": "1ea08076-14c3-4f1b-96fa-599e34b4837c",
   "metadata": {},
   "outputs": [],
   "source": [
    "# Set email for Entrez (required for NCBI access; use a placeholder or your own)\n",
    "Entrez.email = \"tusk.pwt.life\"  # Replace with a real email to avoid NCBI blocks"
   ]
  },
  {
   "cell_type": "code",
   "execution_count": 3,
   "id": "9a9de798-efca-4d4c-98d3-37df294ab6b5",
   "metadata": {},
   "outputs": [],
   "source": [
    "# Function to fetch a gene sequence from NCBI\n",
    "def fetch_gene_sequence(accession, start=1, end=None):\n",
    "    handle = Entrez.efetch(db=\"nucleotide\", id=accession, rettype=\"fasta\", retmode=\"text\", seq_start=start, seq_stop=end)\n",
    "    record = SeqIO.read(handle, \"fasta\")\n",
    "    handle.close()\n",
    "    return record.seq"
   ]
  },
  {
   "cell_type": "code",
   "execution_count": 4,
   "id": "b717d6ce-84fb-47e2-96f4-90bdae5cd3a5",
   "metadata": {},
   "outputs": [],
   "source": [
    "# Expanded PWT-inspired DNA prime analyzer\n",
    "def analyze_dna_primes(dna_seq):\n",
    "    # Translate to protein for context\n",
    "    protein = dna_seq.translate()\n",
    "    print(f\"Protein sequence (first 50 aa): {str(protein)[:50]}...\")\n",
    "\n",
    "    # Extract codons (handle if not multiple of 3)\n",
    "    codons = [str(dna_seq[i:i+3]) for i in range(0, len(dna_seq), 3) if len(dna_seq[i:i+3]) == 3]\n",
    "\n",
    "    # Count codons\n",
    "    codon_count = Counter(codons)\n",
    "\n",
    "    # Analyze counts for prime signatures\n",
    "    prime_data = []\n",
    "    for codon, count in codon_count.items():\n",
    "        factors = sp.factorint(count)\n",
    "        is_prime_count = sp.isprime(count)\n",
    "        prime_data.append((codon, count, is_prime_count, factors))\n",
    "\n",
    "    # Totals\n",
    "    total_codons = len(codons)\n",
    "    total_length = len(dna_seq)\n",
    "    total_factors = sp.factorint(total_codons)\n",
    "    length_factors = sp.factorint(total_length)\n",
    "\n",
    "    return prime_data, total_codons, total_factors, total_length, length_factors"
   ]
  },
  {
   "cell_type": "code",
   "execution_count": 5,
   "id": "356f9c90-a98d-47aa-986e-078a748c9377",
   "metadata": {},
   "outputs": [],
   "source": [
    "# Simulate evolutionary drifts (simple SNP mutations over generations)\n",
    "def simulate_evo_drifts(dna_seq, generations=5, mutation_rate=0.01):\n",
    "    results = []\n",
    "    current_seq = dna_seq\n",
    "    for gen in range(generations):\n",
    "        # Mutate: Random SNP at rate\n",
    "        seq_list = list(current_seq)\n",
    "        for i in range(len(seq_list)):\n",
    "            if random.random() < mutation_rate:\n",
    "                bases = ['A', 'C', 'G', 'T']\n",
    "                seq_list[i] = random.choice([b for b in bases if b != seq_list[i]])\n",
    "        current_seq = Seq(''.join(seq_list))\n",
    "        \n",
    "        # Analyze\n",
    "        prime_data, total_codons, total_factors, total_length, length_factors = analyze_dna_primes(current_seq)\n",
    "        \n",
    "        # Summarize drift (e.g., number of prime counts)\n",
    "        num_prime_counts = sum(1 for _, _, is_prime, _ in prime_data if is_prime)\n",
    "        results.append((gen + 1, num_prime_counts, total_factors))\n",
    "    \n",
    "    return results"
   ]
  },
  {
   "cell_type": "markdown",
   "id": "1acf529a-4bec-42c5-b538-d1cd4fce0e77",
   "metadata": {},
   "source": [
    "## Test the Functions\n",
    "\n",
    "Fetch the HBB gene segment and analyze it. Then simulate drifts. Customize as needed!"
   ]
  },
  {
   "cell_type": "code",
   "execution_count": 6,
   "id": "3b1d1a49-88fb-4ba0-9a27-962b2d2d8a78",
   "metadata": {},
   "outputs": [
    {
     "name": "stdout",
     "output_type": "stream",
     "text": [
      "Fetching HBB gene segment from NCBI...\n",
      "Fetched sequence length: 2000 bp\n",
      "Protein sequence (first 50 aa): RAPGRAGGRAAGGRAAIGRPSERATPAQRGDPSPSRRGAGAGAERISAPS...\n",
      "Sample Prime Data (first 5):\n",
      "('CGG', 33, False, {3: 1, 11: 1})\n",
      "('GCG', 32, False, {2: 5})\n",
      "('CCG', 26, False, {2: 1, 13: 1})\n",
      "('GGG', 48, False, {2: 4, 3: 1})\n",
      "('AGA', 3, True, {3: 1})\n",
      "Total Codons: 666, Factors: {2: 1, 3: 2, 37: 1}\n",
      "DNA Length: 2000, Factors: {2: 4, 5: 3}\n"
     ]
    },
    {
     "name": "stderr",
     "output_type": "stream",
     "text": [
      "/Library/Frameworks/Python.framework/Versions/3.13/lib/python3.13/site-packages/Bio/Seq.py:2879: BiopythonWarning: Partial codon, len(sequence) not a multiple of three. Explicitly trim the sequence or add trailing N before translation. This may become an error in future.\n",
      "  warnings.warn(\n"
     ]
    }
   ],
   "source": [
    "# Set your email (required for NCBI)\n",
    "Entrez.email = \"tusk@pwt.life\"  # Use your real email\n",
    "\n",
    "# Fetch and analyze\n",
    "print(\"Fetching HBB gene segment from NCBI...\")\n",
    "hbb_seq = fetch_gene_sequence(\"NG_028289.1\", start=5001, end=7000)\n",
    "print(f\"Fetched sequence length: {len(hbb_seq)} bp\")\n",
    "\n",
    "prime_data, total_codons, total_factors, total_length, length_factors = analyze_dna_primes(hbb_seq)\n",
    "print(\"Sample Prime Data (first 5):\")\n",
    "for data in prime_data[:5]:\n",
    "    print(data)\n",
    "print(f\"Total Codons: {total_codons}, Factors: {total_factors}\")\n",
    "print(f\"DNA Length: {total_length}, Factors: {length_factors}\")"
   ]
  },
  {
   "cell_type": "code",
   "execution_count": 7,
   "id": "7d522f6f-b2d6-4ba1-a840-b42f885dbb24",
   "metadata": {},
   "outputs": [
    {
     "name": "stdout",
     "output_type": "stream",
     "text": [
      "\n",
      "Simulating Evolutionary Prime Drifts (5 generations):\n",
      "Protein sequence (first 50 aa): RAPGRAGGRAAGGRAAIGRPSERATPAQRGDPSPSRRGAGAGAERISAPS...\n",
      "Protein sequence (first 50 aa): RAPGRAGGRAAGGRAAIGRPSERATPAQRGDPSHSRRGAGAGTYRISAPS...\n",
      "Protein sequence (first 50 aa): RAPGRAGGRAAGGRAAIGRPSERATPAQRGDPSHCRRGAGAGTYRISAPS...\n",
      "Protein sequence (first 50 aa): RAPGRAGGRAAGGRAAIGRPSERATPAQRGDPSHCRRGAGAGTYRISAPS...\n",
      "Protein sequence (first 50 aa): RAPGRACGRAAGGRAAIGRPSERATPAQRGDPSHCRRGAGAGTYRISAPS...\n",
      "Generation 1: Prime Counts = 29, Total Codon Factors = {2: 1, 3: 2, 37: 1}\n",
      "Generation 2: Prime Counts = 29, Total Codon Factors = {2: 1, 3: 2, 37: 1}\n",
      "Generation 3: Prime Counts = 25, Total Codon Factors = {2: 1, 3: 2, 37: 1}\n",
      "Generation 4: Prime Counts = 29, Total Codon Factors = {2: 1, 3: 2, 37: 1}\n",
      "Generation 5: Prime Counts = 24, Total Codon Factors = {2: 1, 3: 2, 37: 1}\n"
     ]
    }
   ],
   "source": [
    "# Simulate drifts on the fetched sequence\n",
    "print(\"\\nSimulating Evolutionary Prime Drifts (5 generations):\")\n",
    "evo_results = simulate_evo_drifts(hbb_seq, generations=5, mutation_rate=0.01)\n",
    "for gen, prime_counts, factors in evo_results:\n",
    "    print(f\"Generation {gen}: Prime Counts = {prime_counts}, Total Codon Factors = {factors}\")"
   ]
  },
  {
   "cell_type": "code",
   "execution_count": 8,
   "id": "a50c7ce4-7db0-4230-a7c2-da3a2273a9e8",
   "metadata": {},
   "outputs": [
    {
     "data": {
      "image/png": "[encoded data removed]",
      "text/plain": [
       "<Figure size 640x480 with 1 Axes>"
      ]
     },
     "metadata": {},
     "output_type": "display_data"
    }
   ],
   "source": [
    "import matplotlib.pyplot as plt\n",
    "generations = [r[0] for r in evo_results]\n",
    "prime_counts = [r[1] for r in evo_results]\n",
    "plt.plot(generations, prime_counts, marker='o')\n",
    "plt.xlabel('Generation')\n",
    "plt.ylabel('Number of Prime Counts')\n",
    "plt.title('PWT Simulation: Prime Drifts in Evolutionary Mutations')\n",
    "plt.show()"
   ]
  },
  {
   "cell_type": "code",
   "execution_count": null,
   "id": "e0a68af4-55c3-484c-8840-beae6eaffd19",
   "metadata": {},
   "outputs": [],
   "source": []
  }
 ],
 "metadata": {
  "kernelspec": {
   "display_name": "Python 3 (ipykernel)",
   "language": "python",
   "name": "python3"
  },
  "language_info": {
   "codemirror_mode": {
    "name": "ipython",
    "version": 3
   },
   "file_extension": ".py",
   "mimetype": "text/x-python",
   "name": "python",
   "nbconvert_exporter": "python",
   "pygments_lexer": "ipython3",
   "version": "3.13.7"
  }
 },
 "nbformat": 4,
 "nbformat_minor": 5
}
