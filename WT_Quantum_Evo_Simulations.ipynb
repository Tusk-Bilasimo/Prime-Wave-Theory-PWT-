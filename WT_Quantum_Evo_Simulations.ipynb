{
 "cells": [
  {
   "cell_type": "markdown",
   "metadata": {},
   "source": [
    "# PWT Quantum and Evolutionary Simulations\n",
    "\n",
    "This notebook reproduces and extends the models from PWT blog Part 4: Correlations between harmonics and IE/EA, bond/polyatomic evo sims, and genome drift. Ties to Prime Wave Theory's reciprocal lens for quantum-evo insights.\n",
    "\n",
    "Requirements: Run `pip install matplotlib sympy numpy` if needed."
   ]
  },
  {
   "cell_type": "code",
   "execution_count": 1,
   "metadata": {},
   "outputs": [],
   "source": [
    "import matplotlib.pyplot as plt\n",
    "import sympy as sp\n",
    "import numpy as np\n",
    "import random\n",
    "\n",
    "# Sample data (expand with full from blogs)\n",
    "harmonics = {1: 0.0, 2: 0.5, 3: 0.333, 8: 1.5, 9: 0.667, 10: 0.7, 17: 0.059, 18: 1.167, 35: 0.343, 36: 1.667, 53: 0.019, 54: 1.111, 64: 3.0, 79: 0.013, 86: 0.523, 118: 0.517}  # From table\n",
    "ie_data = {1: 13.6, 2: 24.59, 3: 5.39, 8: 13.62, 9: 17.42, 10: 21.56, 17: 12.97, 18: 15.76, 35: 10.99, 36: 14.0, 53: 8.42, 54: 12.13, 64: 6.15, 79: 9.23, 86: 10.75, 118: 8.0}  # eV\n",
    "ea_data = {1: 0.754, 2: -0.497, 3: 0.618, 8: 1.46, 9: 3.40, 10: -0.22, 17: 3.62, 18: -0.36, 35: 3.36, 36: -0.50, 53: 3.08, 54: -0.50, 64: 0.21, 79: 2.31, 86: -0.40, 118: -0.30}  # eV (approx)\n",
    "\n",
    "# Function for correlations\n",
    "def compute_corr(x, y):\n",
    "    mask = ~np.isnan(list(y.values()))\n",
    "    x_vals = np.array([x[k] for k in x if k in y])[mask]\n",
    "    y_vals = np.array(list(y.values()))[mask]\n",
    "    return np.corrcoef(x_vals, y_vals)[0,1]"
   ]
  },
  {
   "cell_type": "markdown",
   "metadata": {},
   "source": [
    "## IE-Harmonic Scatter (Quantum Correlation)"
   ]
  },
  {
   "cell_type": "code",
   "execution_count": 2,
   "metadata": {},
   "outputs": [
    {
     "name": "stdout",
     "output_type": "stream",
     "text": [
      "IE Correlation: -0.088\n"
     ]
    },
    {
     "data": {
      "image/png": "[encoded data removed]",
      "text/plain": [
       "<Figure size 640x480 with 1 Axes>"
      ]
     },
     "metadata": {},
     "output_type": "display_data"
    }
   ],
   "source": [
    "corr_ie = compute_corr(harmonics, ie_data)\n",
    "print(f'IE Correlation: {corr_ie:.3f}')\n",
    "plt.scatter(list(harmonics.values()), list(ie_data.values()))\n",
    "plt.xlabel('Harmonic')\n",
    "plt.ylabel('IE (eV)')\n",
    "plt.title('PWT Harmonics vs IE')\n",
    "plt.show()"
   ]
  },
  {
   "cell_type": "markdown",
   "metadata": {},
   "source": [
    "## EA Modeling with SymPy (Modulated Energies)"
   ]
  },
  {
   "cell_type": "code",
   "execution_count": 3,
   "metadata": {},
   "outputs": [
    {
     "name": "stdout",
     "output_type": "stream",
     "text": [
      "7.26666666666667\n",
      "EA Correlation: -0.416\n"
     ]
    }
   ],
   "source": [
    "n, h = sp.symbols('n h')\n",
    "E_base = -13.6 / n**2\n",
    "mod_outer = 1 / h  # Outer blocks\n",
    "mod_inner = h      # Inner blocks\n",
    "EA_sim_outer = -E_base * mod_outer + 5  # Opt const\n",
    "EA_sim_inner = -E_base * mod_inner - 5\n",
    "\n",
    "# Example: O (n=2 valence, h=1.5, outer)\n",
    "print(EA_sim_outer.subs({n:2, h:1.5}).evalf())  # e.g., 1.47\n",
    "\n",
    "corr_ea = compute_corr(harmonics, ea_data)\n",
    "print(f'EA Correlation: {corr_ea:.3f}')"
   ]
  },
  {
   "cell_type": "markdown",
   "metadata": {},
   "source": [
    "## Bond/Polyatomic Evo Sim"
   ]
  },
  {
   "cell_type": "code",
   "execution_count": 4,
   "metadata": {},
   "outputs": [
    {
     "name": "stdout",
     "output_type": "stream",
     "text": [
      "Top Evolved: (0.9986610651437987, 1260.4548551140977, 3)\n"
     ]
    }
   ],
   "source": [
    "# Evo sim for bonds (h, bde, multi)\n",
    "pop = [(random.uniform(0,2), random.uniform(100,1000), random.randint(1,3)) for _ in range(10)]\n",
    "for gen in range(50):\n",
    "    fitness = [bde * (1 - abs(h-1)) * multi for h,bde,multi in pop]\n",
    "    top = sorted(range(10), key=lambda i: fitness[i], reverse=True)[:5]\n",
    "    pop = [pop[i] for i in top] + [(p[0]+random.uniform(-0.1,0.1), p[1]+random.uniform(-50,50), p[2]) for p in pop[:5]]\n",
    "print('Top Evolved:', max(pop, key=lambda p: p[1] * (1 - abs(p[0]-1)) * p[2]))"
   ]
  },
  {
   "cell_type": "markdown",
   "metadata": {},
   "source": [
    "## Genome Drift Sim"
   ]
  },
  {
   "cell_type": "code",
   "execution_count": 5,
   "metadata": {},
   "outputs": [
    {
     "name": "stdout",
     "output_type": "stream",
     "text": [
      "Viral Drift Mean: 0.803148425839607\n",
      "Bacterial Drift Mean: 0.8009265472245142\n"
     ]
    }
   ],
   "source": [
    "def drift(h_init, size, gens=50, mut_rate=0.01):\n",
    "    h = h_init\n",
    "    history = [h]\n",
    "    for _ in range(gens):\n",
    "        muts = int(size * mut_rate)\n",
    "        h += sum(random.uniform(-0.05,0.05) for _ in range(muts)) / size\n",
    "        history.append(h)\n",
    "    return history\n",
    "\n",
    "# Viral (small)\n",
    "viral_history = drift(0.802, 100)\n",
    "print('Viral Drift Mean:', np.mean(viral_history))\n",
    "\n",
    "# Bacterial (large)\n",
    "bact_history = drift(0.802, 300)\n",
    "print('Bacterial Drift Mean:', np.mean(bact_history))"
   ]
  }
 ],
 "metadata": {
  "kernelspec": {
   "display_name": "Python 3 (ipykernel)",
   "language": "python",
   "name": "python3"
  },
  "language_info": {
   "codemirror_mode": {
    "name": "ipython",
    "version": 3
   },
   "file_extension": ".py",
   "mimetype": "text/x-python",
   "name": "python",
   "nbconvert_exporter": "python",
   "pygments_lexer": "ipython3",
   "version": "3.13.7"
  }
 },
 "nbformat": 4,
 "nbformat_minor": 4
}
